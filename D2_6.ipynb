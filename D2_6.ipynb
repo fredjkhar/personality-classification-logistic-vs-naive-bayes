{
 "cells": [
  {
   "cell_type": "markdown",
   "metadata": {},
   "source": [
    "### Assignment 2 - EMPIRICAL CLASSIFICATION STUDY: NAIVE BAYES VS LOGISTIC REGRESSION"
   ]
  },
  {
   "cell_type": "markdown",
   "metadata": {},
   "source": [
    "**Group information**\n",
    "* **Group number**: D2_6\n",
    "* **Group member name:** Fredj Kharroubi\n",
    "* **Student number:** 300160643"
   ]
  },
  {
   "cell_type": "markdown",
   "metadata": {},
   "source": [
    "**1. Objective:**\n",
    "\n",
    "The primary goal of this assignment is to train multi-class classification models, namely Logistic Regression and Naive Bayes, using one of the suggested datasets. \n",
    "\n",
    "The selected dataset for this assignemnt is the *16 personalities* dataset which comprises:\n",
    "\n",
    "* **60 000 entries/rows:** each representing an individual's responses to the personality test, including the header.\n",
    "* **60 features:** corresponding to the questions asked in the test, designed to capture various aspects of an individual’s personality.\n",
    "* **16 unique personality types:** which are the classes into which the responses are categorized.\n",
    "\n",
    "Example questions include “You regularly make new friends” and “You spend a lot of your free time exploring various random topics that pique your interest”.\n",
    "The responses are numerically encoded to reflect the degree of agreement or disagreement on a scale from -3 (Fully Disagree) to 3 (Fully Agree), aiding in quantifying the sentiment behind each answer.\n",
    "\n",
    "**The goal is to train two accurate models for predicting personality types, employing Naive Bayes and Logistic Regression.**\n"
   ]
  },
  {
   "cell_type": "markdown",
   "metadata": {},
   "source": [
    "I find this dataset interesting and appreciate the significant effort to create and maintain it. The features are somewhat complex as each has seven possible values. Furthermore, there are a total of 16 distinct personalities/labels. Despite having 60,000 entries, I doubt that both models can achieve high precision percentages during testing and evaluation, or, at least, that's my prediction."
   ]
  },
  {
   "cell_type": "markdown",
   "metadata": {},
   "source": [
    "**The *16 personalities* dataset**\n",
    "\n",
    "The Knapsack dataset can be obtained from Kaggle, courtesy of ANSHUL MEHTA, at the following link: https://www.kaggle.com/datasets/anshulmehtakaggl/60k-responses-of-16-personalities-test-mbt\n",
    "\n",
    "The raw representation of the dataset can also be obtained at the following link: https://raw.githubusercontent.com/fredjkhar/supervised-learning/main/data/16P.csv\n",
    "\n",
    "The csv file comes with a text file used to map the 16 personalities, and can be visualized at the following link: https://raw.githubusercontent.com/fredjkhar/supervised-learning/main/data/16p-Mapping.txt\n",
    "\n",
    "Note that I will not be using the text file, as it is not needed for models training."
   ]
  },
  {
   "cell_type": "markdown",
   "metadata": {},
   "source": [
    "**2. Feature Engineering**\n",
    "\n",
    "The dataset’s 60 features cover a broad behavioral spectrum, holding potential for insightful personality analysis. However, it is crucial to highlight that the responses are synthetic, as stated by ANSHUL MEHTA, the dataset’s owner and curator. This fact implies that, despite the comprehensiveness of the features, they might not yield precise personality evaluations. Nonetheless, given my limited background in psychology, such metrics might not be exceedingly helpful to me. Instead, I plan to depend solely on the testing phase to evaluate the prediction accuracy of the two trained models, which will be discussed later in the assignment.\n",
    "\n",
    "Diving deeper into the features, I noticed that some questions might be subject to individual interpretation. For example, the question “You like books and movies that make you come up with your own interpretation of the ending” could be perceived differently or may be irrelevant to some. Personally, I find this question challenging to answer as I am selective about movies and rarely read books. Does this mean I should skip this question?\n",
    "\n",
    "Additionally, the use of a numerical scale to represent agreement or disagreement could introduce some imprecisions. The distinctions between “slightly agree” and “partially agree,” for instance, might not be clear to everyone. However, converting responses to a numerical format is advantageous, as it allows us to employ empirical data in model development, predicting personality types based on responses. Even if the predictions are not 100% precise, it is acceptable given that psychology is inherently subjective, relying on interpretations and analyses that are not always exact."
   ]
  },
  {
   "cell_type": "markdown",
   "metadata": {},
   "source": [
    "**3. Attribute encoding**\n",
    "\n"
   ]
  },
  {
   "cell_type": "markdown",
   "metadata": {},
   "source": [
    "**a. Encoding Approaches:**\n",
    "\n",
    "One-hot encoding **[1]**: This technique transforms discrete categorical values into a binary representation, where each category is represented by a unique binary vector with a single '1' and the rest '0's. This is useful for algorithms that work better with continuous  data.\n",
    "Discretization **[2]**: This technique transforms continuous values into discrete bins/chunks. This can be useful for algorithms that work better with categorical data.\n",
    "\n",
    "The Scikit-learn package indeed provides a variety of encoding techniques, which I will be employing to prepare the data for the classifiers.\n",
    "\n",
    "**b. Logistic Regression:**\n",
    "\n",
    "The Scikit-learn's Logistic Regression implementation requires numerical input, but it can handle both continuous and discrete/categorical data. The features in the dataset are Likert scale responses, which are ordinal in nature and already in a numerical format, so they are compatible with Logistic Regression as-is.\n",
    "The target \"personality\" column is categorical but text-based and will need to be encoded. Label Encoding **[3]** will be used to convert each unique string value to a unique integer.\n",
    "\n",
    "**c. Naive Bayes:**\n",
    "\n",
    "For this assignment, I will be using the CategoricalNB classifier as it is designed to handle categorical data. However, it expects the input values to be non-negative integers.\n",
    "The features in the 16 personalities dataset include negative numbers, which are incompatible with CategoricalNB. A simple shifting technique will be applied to ensure all feature values are non-negative. This will involve adding a constant value to all feature values to eliminate negative numbers while maintaining the ordinal relationships between responses."
   ]
  },
  {
   "cell_type": "code",
   "execution_count": 1,
   "metadata": {},
   "outputs": [],
   "source": [
    "import pandas as pd\n",
    "from sklearn.preprocessing import LabelEncoder\n",
    "from sklearn.linear_model import LogisticRegression\n",
    "from sklearn.naive_bayes import CategoricalNB\n",
    "from sklearn.metrics import precision_score, recall_score\n",
    "from sklearn.model_selection import train_test_split\n",
    "import matplotlib.pyplot as plt"
   ]
  },
  {
   "cell_type": "markdown",
   "metadata": {},
   "source": [
    "**4. Models**\n",
    "\n",
    "**4.1 Pretreatment**\n",
    "\n",
    "Before proceeding with the definition of each model, let us initiate the pretreatment step. "
   ]
  },
  {
   "cell_type": "code",
   "execution_count": 2,
   "metadata": {},
   "outputs": [
    {
     "data": {
      "text/html": [
       "<div>\n",
       "<style scoped>\n",
       "    .dataframe tbody tr th:only-of-type {\n",
       "        vertical-align: middle;\n",
       "    }\n",
       "\n",
       "    .dataframe tbody tr th {\n",
       "        vertical-align: top;\n",
       "    }\n",
       "\n",
       "    .dataframe thead th {\n",
       "        text-align: right;\n",
       "    }\n",
       "</style>\n",
       "<table border=\"1\" class=\"dataframe\">\n",
       "  <thead>\n",
       "    <tr style=\"text-align: right;\">\n",
       "      <th></th>\n",
       "      <th>Response Id</th>\n",
       "      <th>You regularly make new friends.</th>\n",
       "      <th>You spend a lot of your free time exploring various random topics that pique your interest</th>\n",
       "      <th>Seeing other people cry can easily make you feel like you want to cry too</th>\n",
       "      <th>You often make a backup plan for a backup plan.</th>\n",
       "      <th>You usually stay calm, even under a lot of pressure</th>\n",
       "      <th>At social events, you rarely try to introduce yourself to new people and mostly talk to the ones you already know</th>\n",
       "      <th>You prefer to completely finish one project before starting another.</th>\n",
       "      <th>You are very sentimental.</th>\n",
       "      <th>You like to use organizing tools like schedules and lists.</th>\n",
       "      <th>...</th>\n",
       "      <th>You believe that pondering abstract philosophical questions is a waste of time.</th>\n",
       "      <th>You feel more drawn to places with busy, bustling atmospheres than quiet, intimate places.</th>\n",
       "      <th>You know at first glance how someone is feeling.</th>\n",
       "      <th>You often feel overwhelmed.</th>\n",
       "      <th>You complete things methodically without skipping over any steps.</th>\n",
       "      <th>You are very intrigued by things labeled as controversial.</th>\n",
       "      <th>You would pass along a good opportunity if you thought someone else needed it more.</th>\n",
       "      <th>You struggle with deadlines.</th>\n",
       "      <th>You feel confident that things will work out for you.</th>\n",
       "      <th>Personality</th>\n",
       "    </tr>\n",
       "  </thead>\n",
       "  <tbody>\n",
       "    <tr>\n",
       "      <th>0</th>\n",
       "      <td>0</td>\n",
       "      <td>0</td>\n",
       "      <td>0</td>\n",
       "      <td>0</td>\n",
       "      <td>0</td>\n",
       "      <td>0</td>\n",
       "      <td>1</td>\n",
       "      <td>1</td>\n",
       "      <td>0</td>\n",
       "      <td>0</td>\n",
       "      <td>...</td>\n",
       "      <td>0</td>\n",
       "      <td>0</td>\n",
       "      <td>0</td>\n",
       "      <td>-1</td>\n",
       "      <td>0</td>\n",
       "      <td>0</td>\n",
       "      <td>0</td>\n",
       "      <td>0</td>\n",
       "      <td>0</td>\n",
       "      <td>ENFP</td>\n",
       "    </tr>\n",
       "    <tr>\n",
       "      <th>1</th>\n",
       "      <td>1</td>\n",
       "      <td>0</td>\n",
       "      <td>0</td>\n",
       "      <td>-2</td>\n",
       "      <td>-3</td>\n",
       "      <td>-1</td>\n",
       "      <td>2</td>\n",
       "      <td>-2</td>\n",
       "      <td>0</td>\n",
       "      <td>3</td>\n",
       "      <td>...</td>\n",
       "      <td>0</td>\n",
       "      <td>-2</td>\n",
       "      <td>0</td>\n",
       "      <td>2</td>\n",
       "      <td>0</td>\n",
       "      <td>-1</td>\n",
       "      <td>-1</td>\n",
       "      <td>-1</td>\n",
       "      <td>3</td>\n",
       "      <td>ISFP</td>\n",
       "    </tr>\n",
       "    <tr>\n",
       "      <th>2</th>\n",
       "      <td>2</td>\n",
       "      <td>0</td>\n",
       "      <td>0</td>\n",
       "      <td>2</td>\n",
       "      <td>0</td>\n",
       "      <td>-1</td>\n",
       "      <td>2</td>\n",
       "      <td>0</td>\n",
       "      <td>0</td>\n",
       "      <td>1</td>\n",
       "      <td>...</td>\n",
       "      <td>0</td>\n",
       "      <td>2</td>\n",
       "      <td>0</td>\n",
       "      <td>2</td>\n",
       "      <td>-1</td>\n",
       "      <td>0</td>\n",
       "      <td>1</td>\n",
       "      <td>2</td>\n",
       "      <td>1</td>\n",
       "      <td>INFJ</td>\n",
       "    </tr>\n",
       "    <tr>\n",
       "      <th>3</th>\n",
       "      <td>3</td>\n",
       "      <td>0</td>\n",
       "      <td>-1</td>\n",
       "      <td>3</td>\n",
       "      <td>-1</td>\n",
       "      <td>0</td>\n",
       "      <td>0</td>\n",
       "      <td>-2</td>\n",
       "      <td>0</td>\n",
       "      <td>-2</td>\n",
       "      <td>...</td>\n",
       "      <td>0</td>\n",
       "      <td>0</td>\n",
       "      <td>-1</td>\n",
       "      <td>-1</td>\n",
       "      <td>0</td>\n",
       "      <td>1</td>\n",
       "      <td>0</td>\n",
       "      <td>-2</td>\n",
       "      <td>-1</td>\n",
       "      <td>ISTP</td>\n",
       "    </tr>\n",
       "    <tr>\n",
       "      <th>4</th>\n",
       "      <td>4</td>\n",
       "      <td>0</td>\n",
       "      <td>0</td>\n",
       "      <td>-1</td>\n",
       "      <td>0</td>\n",
       "      <td>2</td>\n",
       "      <td>-1</td>\n",
       "      <td>-2</td>\n",
       "      <td>0</td>\n",
       "      <td>1</td>\n",
       "      <td>...</td>\n",
       "      <td>0</td>\n",
       "      <td>1</td>\n",
       "      <td>0</td>\n",
       "      <td>2</td>\n",
       "      <td>0</td>\n",
       "      <td>1</td>\n",
       "      <td>-1</td>\n",
       "      <td>2</td>\n",
       "      <td>-1</td>\n",
       "      <td>ENFJ</td>\n",
       "    </tr>\n",
       "  </tbody>\n",
       "</table>\n",
       "<p>5 rows × 62 columns</p>\n",
       "</div>"
      ],
      "text/plain": [
       "   Response Id  You regularly make new friends.  \\\n",
       "0            0                                0   \n",
       "1            1                                0   \n",
       "2            2                                0   \n",
       "3            3                                0   \n",
       "4            4                                0   \n",
       "\n",
       "   You spend a lot of your free time exploring various random topics that pique your interest  \\\n",
       "0                                                  0                                            \n",
       "1                                                  0                                            \n",
       "2                                                  0                                            \n",
       "3                                                 -1                                            \n",
       "4                                                  0                                            \n",
       "\n",
       "   Seeing other people cry can easily make you feel like you want to cry too  \\\n",
       "0                                                  0                           \n",
       "1                                                 -2                           \n",
       "2                                                  2                           \n",
       "3                                                  3                           \n",
       "4                                                 -1                           \n",
       "\n",
       "   You often make a backup plan for a backup plan.  \\\n",
       "0                                                0   \n",
       "1                                               -3   \n",
       "2                                                0   \n",
       "3                                               -1   \n",
       "4                                                0   \n",
       "\n",
       "   You usually stay calm, even under a lot of pressure  \\\n",
       "0                                                  0     \n",
       "1                                                 -1     \n",
       "2                                                 -1     \n",
       "3                                                  0     \n",
       "4                                                  2     \n",
       "\n",
       "   At social events, you rarely try to introduce yourself to new people and mostly talk to the ones you already know  \\\n",
       "0                                                  1                                                                   \n",
       "1                                                  2                                                                   \n",
       "2                                                  2                                                                   \n",
       "3                                                  0                                                                   \n",
       "4                                                 -1                                                                   \n",
       "\n",
       "   You prefer to completely finish one project before starting another.  \\\n",
       "0                                                  1                      \n",
       "1                                                 -2                      \n",
       "2                                                  0                      \n",
       "3                                                 -2                      \n",
       "4                                                 -2                      \n",
       "\n",
       "   You are very sentimental.  \\\n",
       "0                          0   \n",
       "1                          0   \n",
       "2                          0   \n",
       "3                          0   \n",
       "4                          0   \n",
       "\n",
       "   You like to use organizing tools like schedules and lists.  ...  \\\n",
       "0                                                  0           ...   \n",
       "1                                                  3           ...   \n",
       "2                                                  1           ...   \n",
       "3                                                 -2           ...   \n",
       "4                                                  1           ...   \n",
       "\n",
       "   You believe that pondering abstract philosophical questions is a waste of time.  \\\n",
       "0                                                  0                                 \n",
       "1                                                  0                                 \n",
       "2                                                  0                                 \n",
       "3                                                  0                                 \n",
       "4                                                  0                                 \n",
       "\n",
       "   You feel more drawn to places with busy, bustling atmospheres than quiet, intimate places.  \\\n",
       "0                                                  0                                            \n",
       "1                                                 -2                                            \n",
       "2                                                  2                                            \n",
       "3                                                  0                                            \n",
       "4                                                  1                                            \n",
       "\n",
       "   You know at first glance how someone is feeling.  \\\n",
       "0                                                 0   \n",
       "1                                                 0   \n",
       "2                                                 0   \n",
       "3                                                -1   \n",
       "4                                                 0   \n",
       "\n",
       "   You often feel overwhelmed.  \\\n",
       "0                           -1   \n",
       "1                            2   \n",
       "2                            2   \n",
       "3                           -1   \n",
       "4                            2   \n",
       "\n",
       "   You complete things methodically without skipping over any steps.  \\\n",
       "0                                                  0                   \n",
       "1                                                  0                   \n",
       "2                                                 -1                   \n",
       "3                                                  0                   \n",
       "4                                                  0                   \n",
       "\n",
       "   You are very intrigued by things labeled as controversial.  \\\n",
       "0                                                  0            \n",
       "1                                                 -1            \n",
       "2                                                  0            \n",
       "3                                                  1            \n",
       "4                                                  1            \n",
       "\n",
       "   You would pass along a good opportunity if you thought someone else needed it more.  \\\n",
       "0                                                  0                                     \n",
       "1                                                 -1                                     \n",
       "2                                                  1                                     \n",
       "3                                                  0                                     \n",
       "4                                                 -1                                     \n",
       "\n",
       "   You struggle with deadlines.  \\\n",
       "0                             0   \n",
       "1                            -1   \n",
       "2                             2   \n",
       "3                            -2   \n",
       "4                             2   \n",
       "\n",
       "   You feel confident that things will work out for you.  Personality  \n",
       "0                                                  0             ENFP  \n",
       "1                                                  3             ISFP  \n",
       "2                                                  1             INFJ  \n",
       "3                                                 -1             ISTP  \n",
       "4                                                 -1             ENFJ  \n",
       "\n",
       "[5 rows x 62 columns]"
      ]
     },
     "execution_count": 2,
     "metadata": {},
     "output_type": "execute_result"
    }
   ],
   "source": [
    "url_data = \"https://raw.githubusercontent.com/fredjkhar/supervised-learning/main/data/16P.csv\"\n",
    "\n",
    "dataset = pd.read_csv(url_data, encoding='cp1252') # reading the dataset fails with utf-8 encoding\n",
    "dataset = dataset.dropna()\n",
    "\n",
    "dataset.head()"
   ]
  },
  {
   "cell_type": "markdown",
   "metadata": {},
   "source": [
    "The dataset comprises 62 columns. We will eliminate the initial column, Response Id, as it is unnecessary. Additionally, we will rename the features to enhance readability and maintain a more generic nomenclature, with the option to reverse these changes in the future if necessary."
   ]
  },
  {
   "cell_type": "code",
   "execution_count": 3,
   "metadata": {},
   "outputs": [
    {
     "data": {
      "text/html": [
       "<div>\n",
       "<style scoped>\n",
       "    .dataframe tbody tr th:only-of-type {\n",
       "        vertical-align: middle;\n",
       "    }\n",
       "\n",
       "    .dataframe tbody tr th {\n",
       "        vertical-align: top;\n",
       "    }\n",
       "\n",
       "    .dataframe thead th {\n",
       "        text-align: right;\n",
       "    }\n",
       "</style>\n",
       "<table border=\"1\" class=\"dataframe\">\n",
       "  <thead>\n",
       "    <tr style=\"text-align: right;\">\n",
       "      <th></th>\n",
       "      <th>F1</th>\n",
       "      <th>F2</th>\n",
       "      <th>F3</th>\n",
       "      <th>F4</th>\n",
       "      <th>F5</th>\n",
       "      <th>F6</th>\n",
       "      <th>F7</th>\n",
       "      <th>F8</th>\n",
       "      <th>F9</th>\n",
       "      <th>F10</th>\n",
       "      <th>...</th>\n",
       "      <th>F52</th>\n",
       "      <th>F53</th>\n",
       "      <th>F54</th>\n",
       "      <th>F55</th>\n",
       "      <th>F56</th>\n",
       "      <th>F57</th>\n",
       "      <th>F58</th>\n",
       "      <th>F59</th>\n",
       "      <th>F60</th>\n",
       "      <th>Personality</th>\n",
       "    </tr>\n",
       "  </thead>\n",
       "  <tbody>\n",
       "    <tr>\n",
       "      <th>0</th>\n",
       "      <td>0</td>\n",
       "      <td>0</td>\n",
       "      <td>0</td>\n",
       "      <td>0</td>\n",
       "      <td>0</td>\n",
       "      <td>1</td>\n",
       "      <td>1</td>\n",
       "      <td>0</td>\n",
       "      <td>0</td>\n",
       "      <td>0</td>\n",
       "      <td>...</td>\n",
       "      <td>0</td>\n",
       "      <td>0</td>\n",
       "      <td>0</td>\n",
       "      <td>-1</td>\n",
       "      <td>0</td>\n",
       "      <td>0</td>\n",
       "      <td>0</td>\n",
       "      <td>0</td>\n",
       "      <td>0</td>\n",
       "      <td>ENFP</td>\n",
       "    </tr>\n",
       "    <tr>\n",
       "      <th>1</th>\n",
       "      <td>0</td>\n",
       "      <td>0</td>\n",
       "      <td>-2</td>\n",
       "      <td>-3</td>\n",
       "      <td>-1</td>\n",
       "      <td>2</td>\n",
       "      <td>-2</td>\n",
       "      <td>0</td>\n",
       "      <td>3</td>\n",
       "      <td>0</td>\n",
       "      <td>...</td>\n",
       "      <td>0</td>\n",
       "      <td>-2</td>\n",
       "      <td>0</td>\n",
       "      <td>2</td>\n",
       "      <td>0</td>\n",
       "      <td>-1</td>\n",
       "      <td>-1</td>\n",
       "      <td>-1</td>\n",
       "      <td>3</td>\n",
       "      <td>ISFP</td>\n",
       "    </tr>\n",
       "    <tr>\n",
       "      <th>2</th>\n",
       "      <td>0</td>\n",
       "      <td>0</td>\n",
       "      <td>2</td>\n",
       "      <td>0</td>\n",
       "      <td>-1</td>\n",
       "      <td>2</td>\n",
       "      <td>0</td>\n",
       "      <td>0</td>\n",
       "      <td>1</td>\n",
       "      <td>0</td>\n",
       "      <td>...</td>\n",
       "      <td>0</td>\n",
       "      <td>2</td>\n",
       "      <td>0</td>\n",
       "      <td>2</td>\n",
       "      <td>-1</td>\n",
       "      <td>0</td>\n",
       "      <td>1</td>\n",
       "      <td>2</td>\n",
       "      <td>1</td>\n",
       "      <td>INFJ</td>\n",
       "    </tr>\n",
       "    <tr>\n",
       "      <th>3</th>\n",
       "      <td>0</td>\n",
       "      <td>-1</td>\n",
       "      <td>3</td>\n",
       "      <td>-1</td>\n",
       "      <td>0</td>\n",
       "      <td>0</td>\n",
       "      <td>-2</td>\n",
       "      <td>0</td>\n",
       "      <td>-2</td>\n",
       "      <td>0</td>\n",
       "      <td>...</td>\n",
       "      <td>0</td>\n",
       "      <td>0</td>\n",
       "      <td>-1</td>\n",
       "      <td>-1</td>\n",
       "      <td>0</td>\n",
       "      <td>1</td>\n",
       "      <td>0</td>\n",
       "      <td>-2</td>\n",
       "      <td>-1</td>\n",
       "      <td>ISTP</td>\n",
       "    </tr>\n",
       "    <tr>\n",
       "      <th>4</th>\n",
       "      <td>0</td>\n",
       "      <td>0</td>\n",
       "      <td>-1</td>\n",
       "      <td>0</td>\n",
       "      <td>2</td>\n",
       "      <td>-1</td>\n",
       "      <td>-2</td>\n",
       "      <td>0</td>\n",
       "      <td>1</td>\n",
       "      <td>0</td>\n",
       "      <td>...</td>\n",
       "      <td>0</td>\n",
       "      <td>1</td>\n",
       "      <td>0</td>\n",
       "      <td>2</td>\n",
       "      <td>0</td>\n",
       "      <td>1</td>\n",
       "      <td>-1</td>\n",
       "      <td>2</td>\n",
       "      <td>-1</td>\n",
       "      <td>ENFJ</td>\n",
       "    </tr>\n",
       "  </tbody>\n",
       "</table>\n",
       "<p>5 rows × 61 columns</p>\n",
       "</div>"
      ],
      "text/plain": [
       "   F1  F2  F3  F4  F5  F6  F7  F8  F9  F10  ...  F52  F53  F54  F55  F56  F57  \\\n",
       "0   0   0   0   0   0   1   1   0   0    0  ...    0    0    0   -1    0    0   \n",
       "1   0   0  -2  -3  -1   2  -2   0   3    0  ...    0   -2    0    2    0   -1   \n",
       "2   0   0   2   0  -1   2   0   0   1    0  ...    0    2    0    2   -1    0   \n",
       "3   0  -1   3  -1   0   0  -2   0  -2    0  ...    0    0   -1   -1    0    1   \n",
       "4   0   0  -1   0   2  -1  -2   0   1    0  ...    0    1    0    2    0    1   \n",
       "\n",
       "   F58  F59  F60  Personality  \n",
       "0    0    0    0         ENFP  \n",
       "1   -1   -1    3         ISFP  \n",
       "2    1    2    1         INFJ  \n",
       "3    0   -2   -1         ISTP  \n",
       "4   -1    2   -1         ENFJ  \n",
       "\n",
       "[5 rows x 61 columns]"
      ]
     },
     "execution_count": 3,
     "metadata": {},
     "output_type": "execute_result"
    }
   ],
   "source": [
    "dataset = dataset.drop(columns=['Response Id'])\n",
    "\n",
    "dataset_columns = dataset.columns.tolist()\n",
    "\n",
    "for i in range(60): dataset.rename(columns={dataset_columns[i]: 'F' + str(i + 1)}, inplace=True)\n",
    "\n",
    "dataset.head()"
   ]
  },
  {
   "cell_type": "markdown",
   "metadata": {},
   "source": [
    "**4.2 Logistic Regression and Dataset**"
   ]
  },
  {
   "cell_type": "markdown",
   "metadata": {},
   "source": [
    "Logistic regression requires labels to be represented in numerical format. We distinguish 16 unique labels as can be seen below:"
   ]
  },
  {
   "cell_type": "code",
   "execution_count": 4,
   "metadata": {},
   "outputs": [
    {
     "name": "stdout",
     "output_type": "stream",
     "text": [
      "['ENFP' 'ISFP' 'INFJ' 'ISTP' 'ENFJ' 'INTJ' 'ENTJ' 'ESFP' 'INFP' 'INTP'\n",
      " 'ISTJ' 'ENTP' 'ISFJ' 'ESTJ' 'ESTP' 'ESFJ']\n",
      "16\n"
     ]
    }
   ],
   "source": [
    "print(dataset['Personality'].unique())\n",
    "\n",
    "print(len(dataset['Personality'].unique()))"
   ]
  },
  {
   "cell_type": "markdown",
   "metadata": {},
   "source": [
    "We proceed with using the Label Encoding technique to convert the text-based labels to numerical format:"
   ]
  },
  {
   "cell_type": "code",
   "execution_count": 5,
   "metadata": {},
   "outputs": [
    {
     "name": "stdout",
     "output_type": "stream",
     "text": [
      "[ 1 13  8 15  0 10  2  5  9 11 14  3 12  6  7  4]\n",
      "16\n"
     ]
    }
   ],
   "source": [
    "# REFERENCE [3]\n",
    "label_encoder = LabelEncoder() \n",
    "lr_dataset = dataset.copy()\n",
    "\n",
    "lr_dataset['Personality']= label_encoder.fit_transform(lr_dataset['Personality'])\n",
    "\n",
    "print(lr_dataset['Personality'].unique())\n",
    "\n",
    "print(len(lr_dataset['Personality'].unique()))"
   ]
  },
  {
   "cell_type": "markdown",
   "metadata": {},
   "source": [
    "We now define the Logistic Regression classifier:"
   ]
  },
  {
   "cell_type": "code",
   "execution_count": 6,
   "metadata": {},
   "outputs": [],
   "source": [
    "# Reference: [4]\n",
    "\n",
    "# max_iter=10000: Maximum number of iterations taken to converge\n",
    "# n_jobs=-1: Use all available CPU cores for parallel computation\n",
    "# multi_class='multinomial': Apply a multinomial loss fit when there are multiple classes\n",
    "# tol=1e-10: Convergence tolerance; algorithm stops when loss is within this range of the previous loss\n",
    "\n",
    "logreg = LogisticRegression(max_iter=10000, n_jobs=-1, multi_class='multinomial', tol=1e-10, class_weight=None, solver='lbfgs')"
   ]
  },
  {
   "cell_type": "markdown",
   "metadata": {},
   "source": [
    "**4.3 Naive Bayes and dataset**\n",
    "\n",
    "We will be using categoricalNB as our classifier. It does not accept negative feature values. We will thus add a constant value to all feature values to eliminate negative numbers."
   ]
  },
  {
   "cell_type": "code",
   "execution_count": 7,
   "metadata": {},
   "outputs": [
    {
     "data": {
      "text/html": [
       "<div>\n",
       "<style scoped>\n",
       "    .dataframe tbody tr th:only-of-type {\n",
       "        vertical-align: middle;\n",
       "    }\n",
       "\n",
       "    .dataframe tbody tr th {\n",
       "        vertical-align: top;\n",
       "    }\n",
       "\n",
       "    .dataframe thead th {\n",
       "        text-align: right;\n",
       "    }\n",
       "</style>\n",
       "<table border=\"1\" class=\"dataframe\">\n",
       "  <thead>\n",
       "    <tr style=\"text-align: right;\">\n",
       "      <th></th>\n",
       "      <th>F1</th>\n",
       "      <th>F2</th>\n",
       "      <th>F3</th>\n",
       "      <th>F4</th>\n",
       "      <th>F5</th>\n",
       "      <th>F6</th>\n",
       "      <th>F7</th>\n",
       "      <th>F8</th>\n",
       "      <th>F9</th>\n",
       "      <th>F10</th>\n",
       "      <th>...</th>\n",
       "      <th>F52</th>\n",
       "      <th>F53</th>\n",
       "      <th>F54</th>\n",
       "      <th>F55</th>\n",
       "      <th>F56</th>\n",
       "      <th>F57</th>\n",
       "      <th>F58</th>\n",
       "      <th>F59</th>\n",
       "      <th>F60</th>\n",
       "      <th>Personality</th>\n",
       "    </tr>\n",
       "  </thead>\n",
       "  <tbody>\n",
       "    <tr>\n",
       "      <th>0</th>\n",
       "      <td>3</td>\n",
       "      <td>3</td>\n",
       "      <td>3</td>\n",
       "      <td>3</td>\n",
       "      <td>3</td>\n",
       "      <td>4</td>\n",
       "      <td>4</td>\n",
       "      <td>3</td>\n",
       "      <td>3</td>\n",
       "      <td>3</td>\n",
       "      <td>...</td>\n",
       "      <td>3</td>\n",
       "      <td>3</td>\n",
       "      <td>3</td>\n",
       "      <td>2</td>\n",
       "      <td>3</td>\n",
       "      <td>3</td>\n",
       "      <td>3</td>\n",
       "      <td>3</td>\n",
       "      <td>3</td>\n",
       "      <td>ENFP</td>\n",
       "    </tr>\n",
       "    <tr>\n",
       "      <th>1</th>\n",
       "      <td>3</td>\n",
       "      <td>3</td>\n",
       "      <td>1</td>\n",
       "      <td>0</td>\n",
       "      <td>2</td>\n",
       "      <td>5</td>\n",
       "      <td>1</td>\n",
       "      <td>3</td>\n",
       "      <td>6</td>\n",
       "      <td>3</td>\n",
       "      <td>...</td>\n",
       "      <td>3</td>\n",
       "      <td>1</td>\n",
       "      <td>3</td>\n",
       "      <td>5</td>\n",
       "      <td>3</td>\n",
       "      <td>2</td>\n",
       "      <td>2</td>\n",
       "      <td>2</td>\n",
       "      <td>6</td>\n",
       "      <td>ISFP</td>\n",
       "    </tr>\n",
       "    <tr>\n",
       "      <th>2</th>\n",
       "      <td>3</td>\n",
       "      <td>3</td>\n",
       "      <td>5</td>\n",
       "      <td>3</td>\n",
       "      <td>2</td>\n",
       "      <td>5</td>\n",
       "      <td>3</td>\n",
       "      <td>3</td>\n",
       "      <td>4</td>\n",
       "      <td>3</td>\n",
       "      <td>...</td>\n",
       "      <td>3</td>\n",
       "      <td>5</td>\n",
       "      <td>3</td>\n",
       "      <td>5</td>\n",
       "      <td>2</td>\n",
       "      <td>3</td>\n",
       "      <td>4</td>\n",
       "      <td>5</td>\n",
       "      <td>4</td>\n",
       "      <td>INFJ</td>\n",
       "    </tr>\n",
       "    <tr>\n",
       "      <th>3</th>\n",
       "      <td>3</td>\n",
       "      <td>2</td>\n",
       "      <td>6</td>\n",
       "      <td>2</td>\n",
       "      <td>3</td>\n",
       "      <td>3</td>\n",
       "      <td>1</td>\n",
       "      <td>3</td>\n",
       "      <td>1</td>\n",
       "      <td>3</td>\n",
       "      <td>...</td>\n",
       "      <td>3</td>\n",
       "      <td>3</td>\n",
       "      <td>2</td>\n",
       "      <td>2</td>\n",
       "      <td>3</td>\n",
       "      <td>4</td>\n",
       "      <td>3</td>\n",
       "      <td>1</td>\n",
       "      <td>2</td>\n",
       "      <td>ISTP</td>\n",
       "    </tr>\n",
       "    <tr>\n",
       "      <th>4</th>\n",
       "      <td>3</td>\n",
       "      <td>3</td>\n",
       "      <td>2</td>\n",
       "      <td>3</td>\n",
       "      <td>5</td>\n",
       "      <td>2</td>\n",
       "      <td>1</td>\n",
       "      <td>3</td>\n",
       "      <td>4</td>\n",
       "      <td>3</td>\n",
       "      <td>...</td>\n",
       "      <td>3</td>\n",
       "      <td>4</td>\n",
       "      <td>3</td>\n",
       "      <td>5</td>\n",
       "      <td>3</td>\n",
       "      <td>4</td>\n",
       "      <td>2</td>\n",
       "      <td>5</td>\n",
       "      <td>2</td>\n",
       "      <td>ENFJ</td>\n",
       "    </tr>\n",
       "  </tbody>\n",
       "</table>\n",
       "<p>5 rows × 61 columns</p>\n",
       "</div>"
      ],
      "text/plain": [
       "   F1  F2  F3  F4  F5  F6  F7  F8  F9  F10  ...  F52  F53  F54  F55  F56  F57  \\\n",
       "0   3   3   3   3   3   4   4   3   3    3  ...    3    3    3    2    3    3   \n",
       "1   3   3   1   0   2   5   1   3   6    3  ...    3    1    3    5    3    2   \n",
       "2   3   3   5   3   2   5   3   3   4    3  ...    3    5    3    5    2    3   \n",
       "3   3   2   6   2   3   3   1   3   1    3  ...    3    3    2    2    3    4   \n",
       "4   3   3   2   3   5   2   1   3   4    3  ...    3    4    3    5    3    4   \n",
       "\n",
       "   F58  F59  F60  Personality  \n",
       "0    3    3    3         ENFP  \n",
       "1    2    2    6         ISFP  \n",
       "2    4    5    4         INFJ  \n",
       "3    3    1    2         ISTP  \n",
       "4    2    5    2         ENFJ  \n",
       "\n",
       "[5 rows x 61 columns]"
      ]
     },
     "execution_count": 7,
     "metadata": {},
     "output_type": "execute_result"
    }
   ],
   "source": [
    "# Define the mapping (new value = old value + 3)\n",
    "value_map = {\n",
    "    -3: 0,\n",
    "    -2: 1,\n",
    "    -1: 2,\n",
    "     0: 3,\n",
    "     1: 4,\n",
    "     2: 5,\n",
    "     3: 6\n",
    "}\n",
    "nb_dataset = dataset.copy()\n",
    "nb_dataset.replace(value_map, inplace=True) # replace values in the dataset using the mapping\n",
    "\n",
    "nb_dataset.head()"
   ]
  },
  {
   "cell_type": "markdown",
   "metadata": {},
   "source": [
    "Now that the dataset is ready, we can proceed with defining the categoricalNB classifier"
   ]
  },
  {
   "cell_type": "code",
   "execution_count": 8,
   "metadata": {},
   "outputs": [],
   "source": [
    "# Reference: [5]\n",
    "\n",
    "# min_categories=7: Minimum number of categories for a feature to be treated as a categorical variable\n",
    "# alpha=1e-10: Additive smoothing parameter\n",
    "# force_alpha=True: Force the addition of alpha to the smoothing parameter\n",
    "\n",
    "cnb = CategoricalNB(min_categories=7, alpha=1e-10, force_alpha=True)"
   ]
  },
  {
   "cell_type": "markdown",
   "metadata": {},
   "source": [
    "**5. Models training**\n",
    "\n",
    "I will prepare the evaluation method that calculates the precision and recall in advance"
   ]
  },
  {
   "cell_type": "code",
   "execution_count": 9,
   "metadata": {},
   "outputs": [],
   "source": [
    "# Reference: [6]\n",
    "# Reference: [7]\n",
    "\n",
    "def evaluate(y_pred, y_test):\n",
    "    precision = precision_score(y_test, y_pred, average=None)\n",
    "    recall = recall_score(y_test, y_pred, average=None)\n",
    "\n",
    "    # Calculating average precision and recall\n",
    "    micro_precision = precision_score(y_test, y_pred, average='micro')\n",
    "    micro_recall = recall_score(y_test, y_pred, average='micro')\n",
    "\n",
    "    # Calculating average precision and recall\n",
    "    macro_precision = precision_score(y_test, y_pred, average='macro')\n",
    "    macro_recall = recall_score(y_test, y_pred, average='macro')\n",
    "\n",
    "    # Printing the results\n",
    "    print(\"Precision for each class:\", precision)\n",
    "    print(\"\\nRecall for each class:\", recall)\n",
    "    print(\"\\nAverage Micro Precision: {:.5f}\".format(micro_precision))\n",
    "    print(\"\\nAverage Micro Recall: {:.5f}\".format(micro_recall))\n",
    "    print(\"\\nAverage Macro Precision: {:.5f}\".format(macro_precision))\n",
    "    print(\"\\nAverage Macro Recall: {:.5f}\".format(macro_recall))\n",
    "    \n",
    "    return(micro_precision, micro_recall, macro_precision, macro_recall)\n",
    "    "
   ]
  },
  {
   "cell_type": "markdown",
   "metadata": {},
   "source": [
    "**5.1 Logistic regression**"
   ]
  },
  {
   "cell_type": "code",
   "execution_count": 10,
   "metadata": {},
   "outputs": [
    {
     "name": "stdout",
     "output_type": "stream",
     "text": [
      "Precision for each class: [0.92459016 0.93475816 0.94797688 0.95842217 0.88123012 0.93376068\n",
      " 0.93478261 0.92893401 0.93259669 0.90151515 0.875      0.91540785\n",
      " 0.8987069  0.91099476 0.90889831 0.91851107]\n",
      "\n",
      "Recall for each class: [0.92864984 0.92849162 0.94361335 0.94333683 0.87381703 0.95103373\n",
      " 0.9475341  0.9423275  0.91938998 0.89762931 0.88754135 0.91448692\n",
      " 0.90948746 0.91578947 0.89468196 0.90845771]\n",
      "\n",
      "Average Micro Precision: 0.91900\n",
      "\n",
      "Average Micro Recall: 0.91900\n",
      "\n",
      "Average Macro Precision: 0.91913\n",
      "\n",
      "Average Macro Recall: 0.91914\n"
     ]
    }
   ],
   "source": [
    "# Reference: [8]\n",
    "\n",
    "lr_X = lr_dataset.drop(columns=['Personality']) # feature columns\n",
    "lr_Y = lr_dataset['Personality'] # target column\n",
    "\n",
    "lr_X_train, lr_X_test, lr_y_train, lr_y_test = train_test_split(lr_X, lr_Y, test_size=0.25, random_state=16) # 4-to-1 train/test split\n",
    "\n",
    "lr_y_pred = logreg.fit(lr_X_train, lr_y_train).predict(lr_X_test)\n",
    "\n",
    "lr_micro_precision_1, lr_micro_recall_1, lr_macro_precision_1, lr_macro_recall_1 = evaluate(lr_y_pred, lr_y_test)"
   ]
  },
  {
   "cell_type": "markdown",
   "metadata": {},
   "source": [
    "**5.2 Naive Bayes**"
   ]
  },
  {
   "cell_type": "code",
   "execution_count": 11,
   "metadata": {},
   "outputs": [
    {
     "name": "stdout",
     "output_type": "stream",
     "text": [
      "Precision for each class: [0.91416309 0.91422367 0.95265589 0.95978261 0.8540305  0.95159516\n",
      " 0.9123506  0.91658291 0.91028446 0.9038674  0.85475444 0.8856305\n",
      " 0.8835691  0.91157205 0.93002257 0.91133005]\n",
      "\n",
      "Recall for each class: [0.935236   0.94078212 0.94936709 0.92654774 0.82439537 0.94124048\n",
      " 0.96117524 0.9392379  0.90631808 0.88146552 0.90187431 0.91146881\n",
      " 0.88549618 0.87894737 0.85922836 0.92039801]\n",
      "\n",
      "Average Micro Precision: 0.90993\n",
      "\n",
      "Average Micro Recall: 0.90993\n",
      "\n",
      "Average Macro Precision: 0.91040\n",
      "\n",
      "Average Macro Recall: 0.91020\n"
     ]
    }
   ],
   "source": [
    "nb_X = nb_dataset.drop(columns=['Personality']) # feature columns\n",
    "nb_Y = nb_dataset['Personality'] # target column\n",
    "nb_X_train, nb_X_test, nb_y_train, nb_y_test = train_test_split(nb_X, nb_Y, test_size=0.25, random_state=16)\n",
    "\n",
    "nb_y_pred = cnb.fit(nb_X_train, nb_y_train).predict(nb_X_test)\n",
    "\n",
    "nb_micro_precision_1, nb_micro_recall_1, nb_macro_precision_1, nb_macro_recall_1 = evaluate(nb_y_pred, nb_y_test)"
   ]
  },
  {
   "cell_type": "markdown",
   "metadata": {},
   "source": [
    "**6 Additional model training**\n",
    "\n",
    "**6.1 Logistic Regression**\n",
    "\n",
    "**a. set class weight to balanced**"
   ]
  },
  {
   "cell_type": "code",
   "execution_count": 12,
   "metadata": {},
   "outputs": [
    {
     "name": "stdout",
     "output_type": "stream",
     "text": [
      "Precision for each class: [0.92459016 0.93475816 0.94907407 0.95842217 0.88123012 0.93376068\n",
      " 0.93478261 0.92900609 0.93252212 0.90249187 0.87595212 0.91540785\n",
      " 0.8987069  0.91099476 0.90899471 0.9186747 ]\n",
      "\n",
      "Recall for each class: [0.92864984 0.92849162 0.94361335 0.94333683 0.87381703 0.95103373\n",
      " 0.9475341  0.94335736 0.91830065 0.89762931 0.88754135 0.91448692\n",
      " 0.90948746 0.91578947 0.89572471 0.91044776]\n",
      "\n",
      "Average Micro Precision: 0.91920\n",
      "\n",
      "Average Micro Recall: 0.91920\n",
      "\n",
      "Average Macro Precision: 0.91934\n",
      "\n",
      "Average Macro Recall: 0.91933\n"
     ]
    }
   ],
   "source": [
    "# Class weight is set to balanced to account for the imbalanced dataset instead of the default None\n",
    "logreg = LogisticRegression(max_iter=10000, n_jobs=-1, multi_class='multinomial', tol=1e-10, solver='lbfgs', class_weight='balanced')\n",
    "lr_y_pred = logreg.fit(lr_X_train, lr_y_train).predict(lr_X_test)\n",
    "\n",
    "lr_micro_precision_2, lr_micro_recall_2, lr_macro_precision_2, lr_macro_recall_2 = evaluate(lr_y_pred, lr_y_test)"
   ]
  },
  {
   "cell_type": "markdown",
   "metadata": {},
   "source": [
    "**b. set C (regularization strength) to 0.1**"
   ]
  },
  {
   "cell_type": "code",
   "execution_count": 13,
   "metadata": {},
   "outputs": [
    {
     "name": "stdout",
     "output_type": "stream",
     "text": [
      "Precision for each class: [0.92467249 0.93595506 0.94803695 0.95953142 0.88322718 0.93475936\n",
      " 0.9357513  0.93089431 0.93267108 0.90249187 0.87704026 0.91549296\n",
      " 0.8987069  0.91099476 0.91295117 0.9186747 ]\n",
      "\n",
      "Recall for each class: [0.92974753 0.93072626 0.9447641  0.94543547 0.87486856 0.95103373\n",
      " 0.9475341  0.94335736 0.9204793  0.89762931 0.88864388 0.91549296\n",
      " 0.90948746 0.91578947 0.89676747 0.91044776]\n",
      "\n",
      "Average Micro Precision: 0.92000\n",
      "\n",
      "Average Micro Recall: 0.92000\n",
      "\n",
      "Average Macro Precision: 0.92012\n",
      "\n",
      "Average Macro Recall: 0.92014\n"
     ]
    }
   ],
   "source": [
    "# C is set to 0.1 to account for the (presumably) imbalanced dataset instead of the default 1.0\n",
    "logreg = LogisticRegression(max_iter=10000, n_jobs=-1, multi_class='multinomial', solver='lbfgs', tol=1e-10, C=0.1)\n",
    "lr_y_pred = logreg.fit(lr_X_train, lr_y_train).predict(lr_X_test)\n",
    "\n",
    "lr_micro_precision_3, lr_micro_recall_3, lr_macro_precision_3, lr_macro_recall_3 = evaluate(lr_y_pred, lr_y_test)"
   ]
  },
  {
   "cell_type": "markdown",
   "metadata": {},
   "source": [
    "**6.2 Naive Bayes**\n",
    "\n",
    "**a. set alpha to 1e-3**"
   ]
  },
  {
   "cell_type": "code",
   "execution_count": 14,
   "metadata": {},
   "outputs": [
    {
     "name": "stdout",
     "output_type": "stream",
     "text": [
      "Precision for each class: [0.91416309 0.91521739 0.9527105  0.95978261 0.8540305  0.95159516\n",
      " 0.9123506  0.91658291 0.91028446 0.9038674  0.85475444 0.8856305\n",
      " 0.8835691  0.91266376 0.93002257 0.91133005]\n",
      "\n",
      "Recall for each class: [0.935236   0.94078212 0.95051784 0.92654774 0.82439537 0.94124048\n",
      " 0.96117524 0.9392379  0.90631808 0.88146552 0.90187431 0.91146881\n",
      " 0.88549618 0.88       0.85922836 0.92039801]\n",
      "\n",
      "Average Micro Precision: 0.91007\n",
      "\n",
      "Average Micro Recall: 0.91007\n",
      "\n",
      "Average Macro Precision: 0.91053\n",
      "\n",
      "Average Macro Recall: 0.91034\n"
     ]
    }
   ],
   "source": [
    "# alpha=1e-3 instead of 1e-10\n",
    "cnb = CategoricalNB(min_categories=7, alpha=1e-3, force_alpha=True)\n",
    "nb_y_pred = cnb.fit(nb_X_train, nb_y_train).predict(nb_X_test)\n",
    "\n",
    "nb_micro_precision_2, nb_micro_recall_2, nb_macro_precision_2, nb_macro_recall_2 = evaluate(nb_y_pred, nb_y_test)"
   ]
  },
  {
   "cell_type": "markdown",
   "metadata": {},
   "source": [
    "**b. set fit_prior to false**"
   ]
  },
  {
   "cell_type": "code",
   "execution_count": 15,
   "metadata": {},
   "outputs": [
    {
     "name": "stdout",
     "output_type": "stream",
     "text": [
      "Precision for each class: [0.91416309 0.91521739 0.95265589 0.95978261 0.85032538 0.95154185\n",
      " 0.9123506  0.91658291 0.91128149 0.90486726 0.85519412 0.88487805\n",
      " 0.8835691  0.91256831 0.93002257 0.91060904]\n",
      "\n",
      "Recall for each class: [0.935236   0.94078212 0.94936709 0.92654774 0.82439537 0.94015234\n",
      " 0.96117524 0.9392379  0.90631808 0.88146552 0.8985667  0.91247485\n",
      " 0.88549618 0.87894737 0.85922836 0.92238806]\n",
      "\n",
      "Average Micro Precision: 0.90987\n",
      "\n",
      "Average Micro Recall: 0.90987\n",
      "\n",
      "Average Macro Precision: 0.91035\n",
      "\n",
      "Average Macro Recall: 0.91011\n"
     ]
    }
   ],
   "source": [
    "# fit_prior=False instead of the default True\n",
    "cnb = CategoricalNB(min_categories=7, alpha=1e-10, force_alpha=True, fit_prior=False)\n",
    "nb_y_pred = cnb.fit(nb_X_train, nb_y_train).predict(nb_X_test)\n",
    "\n",
    "nb_micro_precision_3, nb_micro_recall_3, nb_macro_precision_3, nb_macro_recall_3 = evaluate(nb_y_pred, nb_y_test)"
   ]
  },
  {
   "cell_type": "markdown",
   "metadata": {},
   "source": [
    "**7. Data analysis and comparison**"
   ]
  },
  {
   "cell_type": "markdown",
   "metadata": {},
   "source": [
    "**a. Macro and Micro LB precision averages**"
   ]
  },
  {
   "cell_type": "code",
   "execution_count": 16,
   "metadata": {},
   "outputs": [
    {
     "data": {
      "image/png": "[encoded data removed]",
      "text/plain": [
       "<Figure size 1800x400 with 1 Axes>"
      ]
     },
     "metadata": {},
     "output_type": "display_data"
    }
   ],
   "source": [
    "\n",
    "\n",
    "algorithms = [\"LR (macro)\", \"LR (class_weight='balanced') (macro)\", \"LR C=0.1 (macro)\", \n",
    "              \"LR (micro)\", \"LR (class_weight='balanced') (micro)\", \"LR C=0.1 (micro)\", ]\n",
    "values = [lr_macro_precision_1, lr_macro_precision_2, lr_macro_precision_3, lr_micro_precision_1, lr_micro_precision_2, lr_micro_precision_3]\n",
    "\n",
    "for i in range(len(values)):\n",
    "    values[i] = round(values[i]*100, 2)\n",
    "\n",
    "plt.figure(figsize=(18,4))   \n",
    "bars = plt.bar(algorithms, values, color=[\"blue\", \"blue\", \"blue\", \"green\", \"green\", \"green\"])\n",
    "for bar in bars:\n",
    "    yval = bar.get_height()\n",
    "    plt.text(bar.get_x() + bar.get_width()/2, yval, yval, ha='center', va='bottom')\n",
    "\n",
    "plt.ylabel(\"Precision Score (%)\")\n",
    "plt.title(\"Average Macro and Micro LR precision\")\n",
    "plt.show()"
   ]
  },
  {
   "cell_type": "markdown",
   "metadata": {},
   "source": [
    "**b. Macro and Micro LB recall averages**"
   ]
  },
  {
   "cell_type": "code",
   "execution_count": 17,
   "metadata": {},
   "outputs": [
    {
     "data": {
      "image/png": "[encoded data removed]",
      "text/plain": [
       "<Figure size 1800x400 with 1 Axes>"
      ]
     },
     "metadata": {},
     "output_type": "display_data"
    }
   ],
   "source": [
    "algorithms = [\"LR (macro)\", \"LR (class_weight='balanced') (macro)\", \"LR C=0.1 (macro)\", \n",
    "              \"LR (micro)\", \"LR (class_weight='balanced') (micro)\", \"LR C=0.1 (micro)\", ]\n",
    "values = [lr_macro_recall_1, lr_macro_recall_2, lr_macro_recall_3, lr_micro_recall_1, lr_micro_recall_2, lr_micro_recall_3]\n",
    "\n",
    "for i in range(len(values)):\n",
    "    values[i] = round(values[i]*100, 2)\n",
    "\n",
    "plt.figure(figsize=(18,4))   \n",
    "bars = plt.bar(algorithms, values, color=[\"blue\", \"blue\", \"blue\", \"green\", \"green\", \"green\"])\n",
    "for bar in bars:\n",
    "    yval = bar.get_height()\n",
    "    plt.text(bar.get_x() + bar.get_width()/2, yval, yval, ha='center', va='bottom')\n",
    "\n",
    "plt.ylabel(\"Precision Score (%)\")\n",
    "plt.title(\"Average Macro and Micro LR recall\")\n",
    "plt.show()"
   ]
  },
  {
   "cell_type": "markdown",
   "metadata": {},
   "source": [
    "**c. Macro and Micro CNB precision averages**"
   ]
  },
  {
   "cell_type": "code",
   "execution_count": 18,
   "metadata": {},
   "outputs": [
    {
     "data": {
      "image/png": "[encoded data removed]",
      "text/plain": [
       "<Figure size 1800x400 with 1 Axes>"
      ]
     },
     "metadata": {},
     "output_type": "display_data"
    }
   ],
   "source": [
    "algorithms = [\"LR (macro)\", \"LR (class_weight='balanced') (macro)\", \"LR C=0.1 (macro)\", \n",
    "              \"LR (micro)\", \"LR (class_weight='balanced') (micro)\", \"LR C=0.1 (micro)\", ]\n",
    "values = [nb_macro_precision_1, nb_macro_precision_2, nb_macro_precision_3, nb_micro_precision_1, nb_micro_precision_2, nb_micro_precision_3]\n",
    "\n",
    "for i in range(len(values)):\n",
    "    values[i] = round(values[i]*100, 2)\n",
    "\n",
    "plt.figure(figsize=(18,4))   \n",
    "bars = plt.bar(algorithms, values, color=[\"blue\", \"blue\", \"blue\", \"green\", \"green\", \"green\"])\n",
    "for bar in bars:\n",
    "    yval = bar.get_height()\n",
    "    plt.text(bar.get_x() + bar.get_width()/2, yval, yval, ha='center', va='bottom')\n",
    "\n",
    "plt.ylabel(\"Precision Score (%)\")\n",
    "plt.title(\"Average Macro and Micro CNB precision\")\n",
    "plt.show()"
   ]
  },
  {
   "cell_type": "markdown",
   "metadata": {},
   "source": [
    "**d. Macro and Micro CNB recall averages**"
   ]
  },
  {
   "cell_type": "code",
   "execution_count": 19,
   "metadata": {},
   "outputs": [
    {
     "data": {
      "image/png": "[encoded data removed]",
      "text/plain": [
       "<Figure size 1800x400 with 1 Axes>"
      ]
     },
     "metadata": {},
     "output_type": "display_data"
    }
   ],
   "source": [
    "algorithms = [\"LR (macro)\", \"LR (class_weight='balanced') (macro)\", \"LR C=0.1 (macro)\", \n",
    "              \"LR (micro)\", \"LR (class_weight='balanced') (micro)\", \"LR C=0.1 (micro)\", ]\n",
    "values = [nb_macro_recall_1, nb_macro_recall_2, nb_macro_recall_3, nb_micro_recall_1, nb_micro_recall_2, nb_micro_recall_3]\n",
    "\n",
    "for i in range(len(values)):\n",
    "    values[i] = round(values[i]*100, 2)\n",
    "\n",
    "plt.figure(figsize=(18,4))   \n",
    "bars = plt.bar(algorithms, values, color=[\"blue\", \"blue\", \"blue\", \"green\", \"green\", \"green\"])\n",
    "for bar in bars:\n",
    "    yval = bar.get_height()\n",
    "    plt.text(bar.get_x() + bar.get_width()/2, yval, yval, ha='center', va='bottom')\n",
    "\n",
    "plt.ylabel(\"Precision Score (%)\")\n",
    "plt.title(\"Average Macro and Micro CNB recall\")\n",
    "plt.show()"
   ]
  },
  {
   "cell_type": "markdown",
   "metadata": {},
   "source": [
    "**e. Discussion**"
   ]
  },
  {
   "cell_type": "markdown",
   "metadata": {},
   "source": [
    "**Average Macro and Micro LR Precision:**\n",
    "\n",
    "* The precision scores for both Macro and Micro in Logistic Regression (LR) range from 91.9% to 92.0%.\n",
    "* The difference in accuracy across various methods (balanced with class weights and regularisation parameter being set to 0.1) is negligible.\n",
    "* Balancing classes in Logistic Regression has minimal impact on precision, however using the regularization parameter C=0.1 appears to marginally enhance macro precision.\n",
    "\n",
    "\n",
    "\n",
    "**Average Macro and Micro LR Recall:**\n",
    "* Suprisingly, the recall and precision rates of LR are the same. I find it difficult to explain, but this could be due to the fact that the classifier's errors are distributed symmetrically between false positives and false negatives. \n",
    "\n",
    "**Average Macro and Micro CNB Precision:**\n",
    "* The precision results for Categorical Naive Bayes (CNB) display slightly lower scores than those of LR, ranging from 90.99% to 91.05%.\n",
    "* As with LR, there is minimal variation in precision between different hyperparameter settings.\n",
    "* Balancing the class weights in CNB does not greatly change the precision, although it contributes to a slightly higher percentage.\n",
    "\n",
    "**Average Macro and Micro CNB Recall:**\n",
    "* On average, the CNB recall scores range from 90.99% to 91.03%, with minimal variation between various hyperparameter settings.\n",
    "\n",
    "**The dataset might have a relatively balanced distribution of classes, as class-weight balancing does not lead to significant changes in either precision or recall.**\n",
    "\n",
    "**Logistic Regression may be better for the dataset than Categorical Naive Bayes due to slightly better precision scores. The data distribution and feature relationships may be more linear, which favours LR.**\n",
    "\n",
    "### I can't draw clear conclusions, as the various hyperparameter configurations' impact on the two classifiers was undecisive. Moreover, the precision and recall metrics were showing consistency across all evaluated categories. I also acknowledge my limited in-depth understanding of said classifiers. Nonetheless, it's clear that the Logistic Regression (LR) and Categorical Naive Bayes (CNB) have performed impressively, achieving precision scores above 90% on a consistent basis. Importantly, LR demonstrated higher precision than CNB.\n",
    "\n",
    "### In my view, the two classifiers effectively trained the two models to balance between recall and precision. If this is the case, it suggests that the resulting models have been successful.\n",
    "\n",
    "\n"
   ]
  },
  {
   "cell_type": "markdown",
   "metadata": {},
   "source": [
    "**8. References**\n",
    "\n",
    "[1] Brightspace. \"ENCODAGE ONE-HOT, Slide 7, Lecture Automne2020-CSI4506-Module4-Video3-AMS-Partie2-Attributs\". Retrieved on October 23th 2023 from :\n",
    "https://uottawa.brightspace.com/d2l/le/content/392262/viewContent/5563920/View\n",
    "\n",
    "[2] Brightspace. \"DISCRETISATION, Slide 8. Lecture Automne2020-CSI4506-Module4-Video3-AMS-Partie2-Attributs\". Retrieved on October 23th 2023 from :\n",
    "https://uottawa.brightspace.com/d2l/le/content/392262/viewContent/5563920/View\n",
    "\n",
    "[3] Scikit-learn. \"sklearn.preprocessing.LabelEncoder\". Retrieved on October 24th 2023 from :\n",
    "https://uottawa.brightspace.com/d2l/le/content/392262/viewContent/5563920/View\n",
    "\n",
    "[4] Scikit-learn. \"sklearn.linear_model.LogisticRegression\". Retrieved on October 23th 2023 from :\n",
    "https://scikit-learn.org/stable/modules/generated/sklearn.linear_model.LogisticRegression.html\n",
    "\n",
    "[5] Scikit-learn. \"sklearn.naive_bayes.CategoricalNB\". Retrieved on October 23th 2023 from :\n",
    "https://scikit-learn.org/stable/modules/generated/sklearn.naive_bayes.CategoricalNB.html\n",
    "\n",
    "[6] Scikit-learn. \"sklearn.metrics.precision_score\". Retrieved on October 23th 2023 from :\n",
    "https://scikit-learn.org/stable/modules/generated/sklearn.metrics.precision_score.html\n",
    "\n",
    "[7] Scikit-learn. \"sklearn.metrics.recall_score\". Retrieved on October 23th 2023 from :\n",
    "https://scikit-learn.org/stable/modules/generated/sklearn.metrics.recall_score.html\n",
    "\n",
    "[8] Scikit-learn. \"sklearn.model_selection.train_test_split\". Retrieved on October 23th 2023 from :\n",
    "https://scikit-learn.org/stable/modules/generated/sklearn.model_selection.train_test_split.html\n",
    "\n",
    "[9] Colab. \"Charts in Colaboratory - Bar Plots\". Retrieved on October 23th 2023 from :\n",
    "https://colab.research.google.com/notebooks/charts.ipynb#scrollTo=sIZLTZ0pdo0Z"
   ]
  }
 ],
 "metadata": {
  "kernelspec": {
   "display_name": "Python 3",
   "language": "python",
   "name": "python3"
  },
  "language_info": {
   "codemirror_mode": {
    "name": "ipython",
    "version": 3
   },
   "file_extension": ".py",
   "mimetype": "text/x-python",
   "name": "python",
   "nbconvert_exporter": "python",
   "pygments_lexer": "ipython3",
   "version": "3.11.5"
  }
 },
 "nbformat": 4,
 "nbformat_minor": 2
}
